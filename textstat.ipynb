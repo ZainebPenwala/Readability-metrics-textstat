{
 "cells": [
  {
   "cell_type": "code",
   "execution_count": 1,
   "metadata": {},
   "outputs": [],
   "source": [
    "import pandas as pd"
   ]
  },
  {
   "cell_type": "code",
   "execution_count": 54,
   "metadata": {},
   "outputs": [
    {
     "name": "stdout",
     "output_type": "stream",
     "text": [
      "{'/MediaBox': [0, 0, 595.32, 841.92], '/Contents': [IndirectObject(84, 0)], '/Resources': {'/Font': {'/QQAPF06c51c5a': IndirectObject(4, 0), '/F2': IndirectObject(5, 0), '/F1': IndirectObject(6, 0), '/QQAPF82d1cd4f': IndirectObject(7, 0), '/F7': IndirectObject(8, 0), '/F6': IndirectObject(9, 0), '/F5': IndirectObject(10, 0), '/F4': IndirectObject(11, 0), '/F3': IndirectObject(12, 0), '/QQAPFdd3b5931': IndirectObject(13, 0), '/QQAPF5a1d174a': IndirectObject(14, 0), '/QQAPF8de9c6a4': IndirectObject(15, 0), '/QQAPF37fd1d36': IndirectObject(16, 0), '/QQAPF77ebede4': IndirectObject(17, 0)}, '/ExtGState': {'/QQAPGSc284a491': IndirectObject(18, 0), '/QQAPGSfa10e495': IndirectObject(19, 0), '/QQAPGS6251851b': IndirectObject(20, 0)}, '/ProcSet': ['/PDF', '/Text', '/ImageB', '/ImageC', '/ImageI']}, '/Parent': IndirectObject(21, 0), '/Group': {'/CS': '/DeviceRGB', '/Type': '/Group', '/S': '/Transparency'}, '/Annots': [], '/Tabs': '/S', '/Type': '/Page', '/StructParents': 0}\n",
      "Page type: <class 'PyPDF2.pdf.PageObject'>\n",
      " \n",
      "Sentiment Analysis of Product Reviews and \n",
      "Evaluation of Trustworthiness\n",
      " \n",
      " \n",
      " \n",
      " \n",
      "Vivek Panchal\n",
      " \n",
      "INFT\n",
      ", \n",
      "ACE\n",
      " \n",
      "Mumbai,\n",
      " \n",
      "India\n",
      " \n",
      " \n",
      "Zaineb Penwala\n",
      " \n",
      "INFT\n",
      ", \n",
      "ACE\n",
      " \n",
      "Mumbai,\n",
      " \n",
      "India\n",
      " \n",
      " \n",
      "Sneha Prabhu\n",
      " \n",
      "INFT\n",
      ", \n",
      "ACE\n",
      " \n",
      "Mumbai,\n",
      " \n",
      "India\n",
      " \n",
      " \n",
      "Rhea Shetty\n",
      " \n",
      "INFT\n",
      ", \n",
      "ACE\n",
      " \n",
      "Mumbai,\n",
      " \n",
      "India\n",
      " \n",
      " \n",
      "Prof.\n",
      " \n",
      "Reena Mahe\n",
      " \n",
      "INFT\n",
      ", \n",
      "ACE\n",
      " \n",
      "Mumbai,\n",
      " \n",
      "India\n",
      " \n",
      " \n",
      "Abstract\n",
      "\n",
      " \n",
      "There has been a rapid growth in the E\n",
      "-\n",
      "commerce \n",
      "industry which market and sell products as well as allow users \n",
      "to express their opinions about products. Buyers generally \n",
      "refer to these reviews a\n",
      "nd opinions before making a buying \n",
      "decision and to obtain first\n",
      "-\n",
      "hand experience of the product \n",
      "from certified buyers. However, users tend to adapt modern \n",
      "writing styles such as abbreviations, misspelled words, \n",
      "phrases instead of sentences and emoticons. He\n",
      "nce, automatic \n",
      "summarization of product reviews using Sentiment Analysis \n",
      "has great significance as it helps the company know what the \n",
      "user liked and disliked about the product as well as helps \n",
      "buyers make an online purchase decision. The basic task \n",
      "of\n",
      " \n",
      "sent\n",
      "iment analysis\n",
      " \n",
      "is sentiment classification which \n",
      "classifies a user review as positive, negative, neutral. Also, it is \n",
      "important to calculate the degree of trust of the user who \n",
      "\n",
      "a global reputat\n",
      "ion score of the product.\n",
      " \n",
      " \n",
      "Keywords\n",
      "\n",
      " \n",
      "Sentiment\n",
      " \n",
      "Analysis,\n",
      " \n",
      "Opinions,\n",
      " \n",
      "Review, \n",
      "Summarization, Abbreviations, Trustworthiness.\n",
      " \n",
      " \n",
      "I.\n",
      " \n",
      "INTRODUCTION\n",
      " \n",
      " \n",
      "Sentiment Analysis (SA) or Opinion Mining (OM) \n",
      "\n",
      "toward an entity.\n",
      " \n",
      "The entity can represent events or topics. \n",
      "These topics are most likely to be covered by reviews. \n",
      "Sentiment Analysis identifies the sentiment expressed in a \n",
      "text then analyzes it. Therefore, the target of SA is to find \n",
      "opinions, identify the sentiments th\n",
      "ey express, and then \n",
      "classify their polarity.\n",
      " \n",
      "The data sets used in SA are an important issue in \n",
      "this field. The main sources of data are from the product \n",
      "reviews. These reviews are important to the business \n",
      "holders as they can take business decisions acco\n",
      "rding to the \n",
      "\n",
      "review sources are mainly review sites [1]. \n",
      " \n",
      "For the consumers to make a better choice, they have \n",
      "access to reviews and experiences from other consumers \n",
      "who have made similar choice\n",
      "s. It helps them to avoid \n",
      "mistakes that other consumers made but also help clear \n",
      "confusion, if any, about the product or service.\n",
      " \n",
      "In the present system, most of the leading e\n",
      "-\n",
      "commerce \n",
      "websites, tend to focus on the product or its features to \n",
      "quite a large \n",
      "extent and give very little emphasis to what \n",
      "other people are saying about the product\n",
      ".\n",
      " \n",
      "This paper focuses on semantically analyzing and \n",
      "evaluating product reviews as they are and minimizing \n",
      "human bias. It does not compare products feature\n",
      "-\n",
      "wise, \n",
      "rather it \n",
      "tries to detect sentiments in a review and along \n",
      "\n",
      "also determines the degree of trust of the user providing the \n",
      "review by assigning it a global reputation score [9].\n",
      " \n",
      " \n",
      "II.\n",
      " \n",
      "LITERATURE SURVEY\n",
      " \n",
      " \n",
      "Cla\n",
      "ssification and summarization of online blog reviews \n",
      "are very important to the growth of E\n",
      "-\n",
      "commerce and social \n",
      "networking applications. Earlier work on automatic text \n",
      "summarization has mainly focused on extraction of \n",
      "sentences that are more significant in \n",
      "comparison to others \n",
      "in a document corpus[2].\n",
      " \n",
      "However, it is important to note that the task of \n",
      "summarizing online product reviews is very different from \n",
      "traditional text summarization, as it does not involve \n",
      "extracting significant sentences from the \n",
      "source text. \n",
      "Instead, while summarizing user reviews, the aim is to first \n",
      "identify semantic features of products and next to generate \n",
      "a comparative summary of products based on feature\n",
      "-\n",
      "wise \n",
      "sentiment classification of the reviews that will guide the \n",
      "user i\n",
      "n making a buying decision. Opinion mining from \n",
      "\n",
      "\n",
      " \n",
      "(1) identification \n",
      "of the opinion feature set and (2) sentiment analysis of \n",
      "\n",
      " \n",
      "It has been observed that nouns and no\n",
      "un phrases \n",
      "(N and NP) frequently occurring in reviews are useful \n",
      "opinion features, while the adjectives and adverbs \n",
      "describing them are useful in classifying sentiment \n",
      "[2].\n",
      "There are some topics that work under \n",
      "the umbrella of \n",
      "SA and have attracted the rese\n",
      "archers recently.\n",
      " \n",
      "This paper [3] deals with keywords based \n",
      "temporal sentiment analysis. Here the paper describes that \n",
      "free texts such as comments by customers or readers, \n",
      "contain not only the sentiments of the topic being talked \n",
      "International Journal of Engineering Research & Technology (IJERT)ISSN: 2278-0181Published by, www.ijert.orgICIATE - 2017 Conference ProceedingsVolume 5, Issue 01Special Issue - 20171\n"
     ]
    }
   ],
   "source": [
    "from PyPDF2 import PdfFileReader\n",
    "def text_extractor(path):\n",
    "    with open(path, 'rb') as f:\n",
    "        pdf = PdfFileReader(f)\n",
    "        # get the first page\n",
    "        page = pdf.getPage(0)\n",
    "        print(page)\n",
    "        print('Page type: {}'.format(str(type(page))))\n",
    "        text = page.extractText()\n",
    "        return text\n",
    "# r=readability(text)\n",
    "# a=r.flesch()\n",
    "# print(a.score)\n",
    "if __name__ == '__main__':\n",
    "    path = 'SA.pdf'\n",
    "    text = text_extractor(path)\n",
    "print(text)  "
   ]
  },
  {
   "cell_type": "code",
   "execution_count": 55,
   "metadata": {},
   "outputs": [
    {
     "data": {
      "text/plain": [
       "' \\nSentiment Analysis of Product Reviews and \\nEvaluation of Trustworthiness\\n \\n \\n \\n \\nVivek Panchal\\n \\nINFT\\n, \\nACE\\n \\nMumbai,\\n \\nIndia\\n \\n \\nZaineb Penwala\\n \\nINFT\\n, \\nACE\\n \\nMumbai,\\n \\nIndia\\n \\n \\nSneha Prabhu\\n \\nINFT\\n, \\nACE\\n \\nMumbai,\\n \\nIndia\\n \\n \\nRhea Shetty\\n \\nINFT\\n, \\nACE\\n \\nMumbai,\\n \\nIndia\\n \\n \\nProf.\\n \\nReena Mahe\\n \\nINFT\\n, \\nACE\\n \\nMumbai,\\n \\nIndia\\n \\n \\nAbstract\\n\\n \\nThere has been a rapid growth in the E\\n-\\ncommerce \\nindustry which market and sell products as well as allow users \\nto express their opinions about products. Buyers generally \\nrefer to these reviews a\\nnd opinions before making a buying \\ndecision and to obtain first\\n-\\nhand experience of the product \\nfrom certified buyers. However, users tend to adapt modern \\nwriting styles such as abbreviations, misspelled words, \\nphrases instead of sentences and emoticons. He\\nnce, automatic \\nsummarization of product reviews using Sentiment Analysis \\nhas great significance as it helps the company know what the \\nuser liked and disliked about the product as well as helps \\nbuyers make an online purchase decision. The basic task \\nof\\n \\nsent\\niment analysis\\n \\nis sentiment classification which \\nclassifies a user review as positive, negative, neutral. Also, it is \\nimportant to calculate the degree of trust of the user who \\n\\na global reputat\\nion score of the product.\\n \\n \\nKeywords\\n\\n \\nSentiment\\n \\nAnalysis,\\n \\nOpinions,\\n \\nReview, \\nSummarization, Abbreviations, Trustworthiness.\\n \\n \\nI.\\n \\nINTRODUCTION\\n \\n \\nSentiment Analysis (SA) or Opinion Mining (OM) \\n\\ntoward an entity.\\n \\nThe entity can represent events or topics. \\nThese topics are most likely to be covered by reviews. \\nSentiment Analysis identifies the sentiment expressed in a \\ntext then analyzes it. Therefore, the target of SA is to find \\nopinions, identify the sentiments th\\ney express, and then \\nclassify their polarity.\\n \\nThe data sets used in SA are an important issue in \\nthis field. The main sources of data are from the product \\nreviews. These reviews are important to the business \\nholders as they can take business decisions acco\\nrding to the \\n\\nreview sources are mainly review sites [1]. \\n \\nFor the consumers to make a better choice, they have \\naccess to reviews and experiences from other consumers \\nwho have made similar choice\\ns. It helps them to avoid \\nmistakes that other consumers made but also help clear \\nconfusion, if any, about the product or service.\\n \\nIn the present system, most of the leading e\\n-\\ncommerce \\nwebsites, tend to focus on the product or its features to \\nquite a large \\nextent and give very little emphasis to what \\nother people are saying about the product\\n.\\n \\nThis paper focuses on semantically analyzing and \\nevaluating product reviews as they are and minimizing \\nhuman bias. It does not compare products feature\\n-\\nwise, \\nrather it \\ntries to detect sentiments in a review and along \\n\\nalso determines the degree of trust of the user providing the \\nreview by assigning it a global reputation score [9].\\n \\n \\nII.\\n \\nLITERATURE SURVEY\\n \\n \\nCla\\nssification and summarization of online blog reviews \\nare very important to the growth of E\\n-\\ncommerce and social \\nnetworking applications. Earlier work on automatic text \\nsummarization has mainly focused on extraction of \\nsentences that are more significant in \\ncomparison to others \\nin a document corpus[2].\\n \\nHowever, it is important to note that the task of \\nsummarizing online product reviews is very different from \\ntraditional text summarization, as it does not involve \\nextracting significant sentences from the \\nsource text. \\nInstead, while summarizing user reviews, the aim is to first \\nidentify semantic features of products and next to generate \\na comparative summary of products based on feature\\n-\\nwise \\nsentiment classification of the reviews that will guide the \\nuser i\\nn making a buying decision. Opinion mining from \\n\\n\\n \\n(1) identification \\nof the opinion feature set and (2) sentiment analysis of \\n\\n \\nIt has been observed that nouns and no\\nun phrases \\n(N and NP) frequently occurring in reviews are useful \\nopinion features, while the adjectives and adverbs \\ndescribing them are useful in classifying sentiment \\n[2].\\nThere are some topics that work under \\nthe umbrella of \\nSA and have attracted the rese\\narchers recently.\\n \\nThis paper [3] deals with keywords based \\ntemporal sentiment analysis. Here the paper describes that \\nfree texts such as comments by customers or readers, \\ncontain not only the sentiments of the topic being talked \\nInternational Journal of Engineering Research & Technology (IJERT)ISSN: 2278-0181Published by, www.ijert.orgICIATE - 2017 Conference ProceedingsVolume 5, Issue 01Special Issue - 20171'"
      ]
     },
     "execution_count": 55,
     "metadata": {},
     "output_type": "execute_result"
    }
   ],
   "source": [
    "t=text\n",
    "t"
   ]
  },
  {
   "cell_type": "code",
   "execution_count": 67,
   "metadata": {},
   "outputs": [
    {
     "data": {
      "text/plain": [
       "9.39"
      ]
     },
     "execution_count": 67,
     "metadata": {},
     "output_type": "execute_result"
    }
   ],
   "source": [
    "#Dale-Chall Readability Score\n",
    "import textstat\n",
    "textstat.dale_chall_readability_score(t)"
   ]
  },
  {
   "cell_type": "code",
   "execution_count": 62,
   "metadata": {},
   "outputs": [
    {
     "data": {
      "text/plain": [
       "1198"
      ]
     },
     "execution_count": 62,
     "metadata": {},
     "output_type": "execute_result"
    }
   ],
   "source": [
    "#Syllable Count\n",
    "textstat.syllable_count(t, lang='en_US')"
   ]
  },
  {
   "cell_type": "code",
   "execution_count": 63,
   "metadata": {},
   "outputs": [
    {
     "data": {
      "text/plain": [
       "694"
      ]
     },
     "execution_count": 63,
     "metadata": {},
     "output_type": "execute_result"
    }
   ],
   "source": [
    "#Lexicon Count\n",
    "textstat.lexicon_count(t, removepunct=True)"
   ]
  },
  {
   "cell_type": "code",
   "execution_count": 64,
   "metadata": {},
   "outputs": [
    {
     "data": {
      "text/plain": [
       "15"
      ]
     },
     "execution_count": 64,
     "metadata": {},
     "output_type": "execute_result"
    }
   ],
   "source": [
    "#Sentence Count\n",
    "textstat.sentence_count(text)"
   ]
  },
  {
   "cell_type": "code",
   "execution_count": null,
   "metadata": {},
   "outputs": [],
   "source": []
  }
 ],
 "metadata": {
  "kernelspec": {
   "display_name": "Python 3",
   "language": "python",
   "name": "python3"
  },
  "language_info": {
   "codemirror_mode": {
    "name": "ipython",
    "version": 3
   },
   "file_extension": ".py",
   "mimetype": "text/x-python",
   "name": "python",
   "nbconvert_exporter": "python",
   "pygments_lexer": "ipython3",
   "version": "3.7.3"
  }
 },
 "nbformat": 4,
 "nbformat_minor": 2
}
